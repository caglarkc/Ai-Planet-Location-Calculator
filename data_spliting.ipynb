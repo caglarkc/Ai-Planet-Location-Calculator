{
 "cells": [
  {
   "cell_type": "code",
   "execution_count": 4,
   "metadata": {},
   "outputs": [
    {
     "name": "stdout",
     "output_type": "stream",
     "text": [
      "Rastgele seçilen satırlar başarıyla 'C:/Users/alica/Desktop/200_data.txt' dosyasına yazıldı.\n"
     ]
    }
   ],
   "source": [
    "import random\n",
    "\n",
    "input_file_path = \"C:/Users/alica/Desktop/full_data.txt\"\n",
    "\n",
    "output_file_path = \"C:/Users/alica/Desktop/200_data.txt\"\n",
    "\n",
    "with open(input_file_path, \"r\", encoding=\"utf-8\") as infile:\n",
    "    lines = infile.readlines()\n",
    "\n",
    "random.shuffle(lines)\n",
    "\n",
    "with open(output_file_path, \"w\", encoding=\"utf-8\") as outfile:\n",
    "    outfile.writelines(lines[:500])\n",
    "\n",
    "print(f\"Rastgele seçilen satırlar başarıyla '{output_file_path}' dosyasına yazıldı.\")\n"
   ]
  },
  {
   "cell_type": "code",
   "execution_count": null,
   "metadata": {},
   "outputs": [],
   "source": [
    "# İlk dosya yolunu belirleyin (orijinal dosya)\n",
    "input_file_path = \"C:/Users/alica/Desktop/full_data.txt\"\n",
    "\n",
    "# Yeni dosya yolunu belirleyin (ilk 300k satırı yazacağımız dosya)\n",
    "output_file_path = \"C:/Users/alica/Desktop/300k_data.txt\"\n",
    "\n",
    "# İlk 300.000 satırı okuma ve yazma işlemi\n",
    "with open(input_file_path, \"r\", encoding=\"utf-8\") as infile, open(output_file_path, \"w\", encoding=\"utf-8\") as outfile:\n",
    "    for i, line in enumerate(infile):\n",
    "        if i < 300000:  # İlk 300.000 satırı kontrol eder\n",
    "            outfile.write(line)\n",
    "        else:\n",
    "            break  # 300.000. satırdan sonra döngüyü kırar\n",
    "\n",
    "print(f\"İlk 300.000 satır başarıyla '{output_file_path}' dosyasına yazıldı.\")\n"
   ]
  }
 ],
 "metadata": {
  "kernelspec": {
   "display_name": "Python 3",
   "language": "python",
   "name": "python3"
  },
  "language_info": {
   "codemirror_mode": {
    "name": "ipython",
    "version": 3
   },
   "file_extension": ".py",
   "mimetype": "text/x-python",
   "name": "python",
   "nbconvert_exporter": "python",
   "pygments_lexer": "ipython3",
   "version": "3.10.0"
  }
 },
 "nbformat": 4,
 "nbformat_minor": 2
}
